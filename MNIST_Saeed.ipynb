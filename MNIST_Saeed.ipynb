{
 "cells": [
  {
   "cell_type": "markdown",
   "metadata": {},
   "source": [
    "xxxxxxxxxxxxxxxxxxxxxxxxxxxxxxxxxxxxxxxxxxxxxxxxxxxxxxxxxxxxxxxxxxxxxxxxxxxxxxxxxxxxxxxxxxxxxx\n",
    "\n",
    "# Assignment: MNIST Dataset\n",
    "### submitted by:\n",
    "## Saeed Manavipour\n",
    "\n",
    "xxxxxxxxxxxxxxxxxxxxxxxxxxxxxxxxxxxxxxxxxxxxxxxxxxxxxxxxxxxxxxxxxxxxxxxxxxxxxxxxxxxxxxxxxxxxxx\n"
   ]
  },
  {
   "cell_type": "code",
   "execution_count": 1,
   "metadata": {},
   "outputs": [],
   "source": [
    "from scipy import io\n",
    "import time\n",
    "import pandas as pd\n",
    "import numpy as np\n",
    "import matplotlib.pyplot as plt\n",
    "import seaborn as sns\n",
    "import pickle\n",
    "from sklearn import model_selection, metrics, linear_model,neighbors, tree\n",
    "from sklearn.feature_selection import VarianceThreshold\n",
    "from sklearn.linear_model import LogisticRegression\n",
    "from sklearn.model_selection import train_test_split, cross_val_score\n",
    "from sklearn.preprocessing import StandardScaler\n",
    "from sklearn.metrics import accuracy_score, confusion_matrix\n",
    "from sklearn.svm import LinearSVC\n",
    "import xgboost\n",
    "from xgboost import XGBClassifier\n",
    "import warnings\n",
    "warnings.filterwarnings('ignore')"
   ]
  },
  {
   "cell_type": "code",
   "execution_count": 2,
   "metadata": {},
   "outputs": [],
   "source": [
    "data = io.loadmat(\"C:/Users/saeed/Downloads/data/mnist-original.mat\")\n",
    "x, y = data['data'].T, data['label'].T\n",
    "\n",
    "df_x=pd.DataFrame(x)\n",
    "df_y=pd.DataFrame(y)"
   ]
  },
  {
   "cell_type": "markdown",
   "metadata": {},
   "source": [
    "xxxxxxxxxxxxxxxxxxxxxxxxxxxxxxxxxxxxxxxxxxxxxxxxxxxxxxxxxxxxxxxxxxxxxxxxxxxxxxxxxxxxxxxxxxxxxx\n",
    "### Question 1\n",
    "\n",
    "Preprocess the data. Visualize one element from each class. Visualize the mean of each class.\n"
   ]
  },
  {
   "cell_type": "code",
   "execution_count": 3,
   "metadata": {},
   "outputs": [
    {
     "data": {
      "text/plain": [
       "(70000, 784)"
      ]
     },
     "execution_count": 3,
     "metadata": {},
     "output_type": "execute_result"
    }
   ],
   "source": [
    "###preprocessing the data we can see that they are no null values:\n",
    "df_x.isnull().sum()\n",
    "df_x.dropna(how='any').shape"
   ]
  },
  {
   "cell_type": "code",
   "execution_count": 4,
   "metadata": {},
   "outputs": [
    {
     "name": "stdout",
     "output_type": "stream",
     "text": [
      "Visualize one element from each class: \n"
     ]
    },
    {
     "data": {
      "image/png": "[encoded data removed]",
      "text/plain": [
       "<Figure size 288x288 with 10 Axes>"
      ]
     },
     "metadata": {
      "needs_background": "light"
     },
     "output_type": "display_data"
    }
   ],
   "source": [
    "### in order to visualize images, we need to reshape each row of df_x into a matrix of 28x28\n",
    "### (28*28=784). Chooisng different row numbers, we can find one image from each class 0 to 9:\n",
    "print('Visualize one element from each class: ')\n",
    "plt.rcParams['figure.figsize']=(4,4)\n",
    "list1=[222,7777,14370,22000,26000,33000,38000,43000,53055,69666]\n",
    "for i in range(len(list1)):    \n",
    "    my_row=list1[i]\n",
    "    plt.subplot(2, 5, i+1)\n",
    "    info=df_x.iloc[my_row,:]\n",
    "    my_image=info.values.reshape(28,28)\n",
    "    plt.imshow(my_image,cmap='gray');"
   ]
  },
  {
   "cell_type": "code",
   "execution_count": 5,
   "metadata": {},
   "outputs": [],
   "source": [
    "#creating a new data frame to get the mean for each class:\n",
    "df_new=df_x.copy()\n",
    "df_new['class']=df_y\n",
    "df_mean=df_new.groupby('class').mean()"
   ]
  },
  {
   "cell_type": "code",
   "execution_count": 6,
   "metadata": {},
   "outputs": [
    {
     "name": "stdout",
     "output_type": "stream",
     "text": [
      "Visualize the mean of each class:\n"
     ]
    },
    {
     "data": {
      "image/png": "[encoded data removed]",
      "text/plain": [
       "<Figure size 360x360 with 10 Axes>"
      ]
     },
     "metadata": {
      "needs_background": "light"
     },
     "output_type": "display_data"
    }
   ],
   "source": [
    "print('Visualize the mean of each class:')\n",
    "plt.rcParams['figure.figsize']=(5,5)\n",
    "for i in range(10):        \n",
    "    plt.subplot(2, 5, i+1)\n",
    "    info=df_mean.iloc[i,:]\n",
    "    my_image=info.values.reshape(28,28)\n",
    "    plt.imshow(my_image,cmap='gray');"
   ]
  },
  {
   "cell_type": "markdown",
   "metadata": {},
   "source": [
    "xxxxxxxxxxxxxxxxxxxxxxxxxxxxxxxxxxxxxxxxxxxxxxxxxxxxxxxxxxxxxxxxxxxxxxxxxxxxxxxxxxxxxxxxxxxx\n",
    "### Question 2\n",
    "\n",
    "Try fitting a logistic regression with its solver set to be the limited-memory variant of the Broyden-Fletcher-Goldfarb-Shannon algorithm. (If you'd like, you can try the other solvers/optimizers and observe the differences in computation time.)\n",
    "•\tWhat does reducing the dimensionality do to the computation time and why?\n",
    "•\tWhat does reducing the number of data points do to the computation time and why?\n",
    "•\tList one advantage and disadvantage of reducing dimensionality. List one advantage and disadvantage of reducing the number of data points.\n"
   ]
  },
  {
   "cell_type": "code",
   "execution_count": 7,
   "metadata": {},
   "outputs": [
    {
     "data": {
      "text/plain": [
       "(70000, 411)"
      ]
     },
     "execution_count": 7,
     "metadata": {},
     "output_type": "execute_result"
    }
   ],
   "source": [
    "## reducing dimensions using VarianceThreshold\n",
    "select1 = VarianceThreshold(threshold=1000)\n",
    "x = select1.fit_transform(df_x)\n",
    "x.shape"
   ]
  },
  {
   "cell_type": "code",
   "execution_count": 8,
   "metadata": {},
   "outputs": [
    {
     "name": "stdout",
     "output_type": "stream",
     "text": [
      "(7000, 411)\n",
      "(7000, 1)\n",
      "\n",
      "(7000, 411)\n",
      "(7000, 1)\n"
     ]
    }
   ],
   "source": [
    "### Spliting our data\n",
    "x_train, x_test, y_train, y_test = train_test_split(x,y, train_size = 0.1,test_size=0.1)\n",
    "print(x_train.shape)\n",
    "print(y_train.shape)\n",
    "print()\n",
    "print(x_test.shape)\n",
    "print(y_test.shape)"
   ]
  },
  {
   "cell_type": "code",
   "execution_count": 9,
   "metadata": {},
   "outputs": [],
   "source": [
    "###scaling out data using StandardScaler\n",
    "scaler = StandardScaler()\n",
    "scaler.fit(x_train)\n",
    "x_train = scaler.transform(x_train)\n",
    "x_test = scaler.transform(x_test)"
   ]
  },
  {
   "cell_type": "code",
   "execution_count": 10,
   "metadata": {},
   "outputs": [
    {
     "name": "stdout",
     "output_type": "stream",
     "text": [
      "--- 4.945006847381592 seconds ---\n"
     ]
    }
   ],
   "source": [
    "### fitting regression model:\n",
    "start_time = time.time()\n",
    "my_regression = LogisticRegression(C=1.0,solver='lbfgs')\n",
    "my_regression.fit(x_train,y_train)\n",
    "print(\"--- %s seconds ---\" % (time.time() - start_time))\n",
    "\n",
    "print('Train Score: ',my_regression.score(x_train,y_train))\n",
    "print('Test Score:  ',my_regression.score(x_test,y_test))"
   ]
  },
  {
   "cell_type": "markdown",
   "metadata": {},
   "source": [
    "#### Answers:\n",
    "\n",
    "Reducing dimensionality makes modeling faster and reduces computation time since we have less features to fit the model. The same goes for reducing number of data point, it takes less time to train the model.\n",
    "\n",
    "Advantage of reducing dimensions or data points is reducing computation time, but the disadvantage is that we are using less data points and less features to train our model and as a result we are losing data which could result in lower accuracy scores."
   ]
  },
  {
   "cell_type": "markdown",
   "metadata": {},
   "source": [
    "xxxxxxxxxxxxxxxxxxxxxxxxxxxxxxxxxxxxxxxxxxxxxxxxxxxxxxxxxxxxxxxxxxxxxxxxxxxxxxxxxxxxxxxxxxxxxx\n",
    "### Question 3\n",
    "\n",
    "\n",
    "\n",
    "Use k-fold cross-validation for various values of k (try k from 1 to 15) with a KNN classifier to find the ideal number of neighbors to model the data.\n",
    "•\tWhat kind of accuracy are you getting? If you find this is taking too long for your computer you can subset the data to reduce the number of training points."
   ]
  },
  {
   "cell_type": "code",
   "execution_count": 12,
   "metadata": {},
   "outputs": [
    {
     "data": {
      "image/png": "[encoded data removed]",
      "text/plain": [
       "<Figure size 360x360 with 1 Axes>"
      ]
     },
     "metadata": {
      "needs_background": "light"
     },
     "output_type": "display_data"
    },
    {
     "name": "stdout",
     "output_type": "stream",
     "text": [
      "Best Model: K:  3\n",
      "Accuracy:  0.9196907880703915\n"
     ]
    }
   ],
   "source": [
    "### since the comutation takes too long, we reduce train and test data points further:\n",
    "### we use cross-validation of cv=5,\n",
    "### we are running KNN_model for k from 1 to 15 and looking at train and test scores:\n",
    "\n",
    "x_train, x_test, y_train, y_test = train_test_split(x,y, train_size = 0.05,test_size=0.05)\n",
    "validation_score_list = []\n",
    "neighbors_range = np.arange(1,15)\n",
    "\n",
    "for k in neighbors_range:  \n",
    "    KNN_model = neighbors.KNeighborsClassifier(n_neighbors=k)\n",
    "    validation_score = np.mean(cross_val_score(KNN_model, x_test,y_test, cv = 5))\n",
    "    validation_score_list.append(validation_score)\n",
    "plt.scatter(neighbors_range, validation_score_list,label=\"Validation Score\")\n",
    "plt.legend();\n",
    "plt.xlabel('K');\n",
    "plt.ylabel('Score');\n",
    "plt.show();\n",
    "print(\"Best Model: K: \", validation_score_list.index(np.max(validation_score_list))+1)\n",
    "print('Accuracy: ',np.max(validation_score_list))"
   ]
  },
  {
   "cell_type": "markdown",
   "metadata": {},
   "source": [
    "xxxxxxxxxxxxxxxxxxxxxxxxxxxxxxxxxxxxxxxxxxxxxxxxxxxxxxxxxxxxxxxxxxxxxxxxxxxxxxxxxxxxxxxxxxxxxx\n",
    "#### Question:\n",
    "\n",
    "What happens to train and validation set accuracy if you set the K in your K-NN model to 1 (1-Nearest Neighbours) or to the number of training points (60000-Nearest Neighbours).\n",
    "•\tCan you explain what is going on and why it is happening?"
   ]
  },
  {
   "cell_type": "code",
   "execution_count": 13,
   "metadata": {},
   "outputs": [
    {
     "name": "stdout",
     "output_type": "stream",
     "text": [
      "Train Score:  1.0\n",
      "Test Score:   0.9245714285714286\n"
     ]
    }
   ],
   "source": [
    "### setting K to 1:\n",
    "KNN_model = neighbors.KNeighborsClassifier(n_neighbors=1)\n",
    "KNN_model.fit(x_train,y_train)\n",
    "print('Train Score: ',accuracy_score(y_train,KNN_model.predict(x_train)))\n",
    "print('Test Score:  ',accuracy_score(y_test,KNN_model.predict(x_test)))"
   ]
  },
  {
   "cell_type": "code",
   "execution_count": 14,
   "metadata": {},
   "outputs": [
    {
     "name": "stdout",
     "output_type": "stream",
     "text": [
      "Train Score:  0.12285714285714286\n",
      "Test Score:   0.12114285714285715\n"
     ]
    }
   ],
   "source": [
    "### setting K to 3000(since here we are only using 3000 data points)\n",
    "KNN_model = neighbors.KNeighborsClassifier(n_neighbors=3000)\n",
    "KNN_model.fit(x_train,y_train)\n",
    "print('Train Score: ',accuracy_score(y_train,KNN_model.predict(x_train)))\n",
    "print('Test Score:  ',accuracy_score(y_test,KNN_model.predict(x_test)))"
   ]
  },
  {
   "cell_type": "markdown",
   "metadata": {},
   "source": [
    "#### Answer:\n",
    "\n",
    "Setting K to 1 we get 100% score for training since the model is memorizing the training data.\n",
    "\n",
    "Setting K to 3000 we get terrible low values for scores. this is because the model is taking the average of all data points to predict the target."
   ]
  },
  {
   "cell_type": "markdown",
   "metadata": {},
   "source": [
    "xxxxxxxxxxxxxxxxxxxxxxxxxxxxxxxxxxxxxxxxxxxxxxxxxxxxxxxxxxxxxxxxxxxxxxxxxxxxxxxxxxxxxxxxxxxxxx\n",
    "#### Question:\n",
    "\n",
    "\n",
    "Answer the previous question again but using decision trees where instead of controlling for K we control for the depth of the tree.\n"
   ]
  },
  {
   "cell_type": "code",
   "execution_count": 15,
   "metadata": {},
   "outputs": [
    {
     "data": {
      "image/png": "[encoded data removed]",
      "text/plain": [
       "<Figure size 360x360 with 1 Axes>"
      ]
     },
     "metadata": {
      "needs_background": "light"
     },
     "output_type": "display_data"
    },
    {
     "name": "stdout",
     "output_type": "stream",
     "text": [
      "Best Model, Tree Depth:  9\n",
      "Accuracy:  0.7528802237809417\n"
     ]
    }
   ],
   "source": [
    "### here we run the decision tree model for depth of 1 to 20:\n",
    "\n",
    "x_train, x_test, y_train, y_test = train_test_split(x,y, train_size = 0.05,test_size=0.05)\n",
    "validation_score_list = []\n",
    "tree_range=np.arange(1,20)\n",
    "\n",
    "for n in tree_range:\n",
    "    DT_model = tree.DecisionTreeClassifier(max_depth=n)\n",
    "    validation_score = np.mean(cross_val_score(DT_model, x_test,y_test, cv = 5))\n",
    "    validation_score_list.append(validation_score)\n",
    "plt.scatter(tree_range, validation_score_list,label=\"Validation Score\")\n",
    "plt.legend();\n",
    "plt.xlabel('Depth');\n",
    "plt.ylabel('Score');\n",
    "plt.show();\n",
    "print(\"Best Model, Tree Depth: \", validation_score_list.index(np.max(validation_score_list))+1)\n",
    "print('Accuracy: ',np.max(validation_score_list))"
   ]
  },
  {
   "cell_type": "markdown",
   "metadata": {},
   "source": [
    "xxxxxxxxxxxxxxxxxxxxxxxxxxxxxxxxxxxxxxxxxxxxxxxxxxxxxxxxxxxxxxxxxxxxxxxxxxxxxxxxxxxxxxxxxxxxxx\n",
    "### Question 4:\n",
    "\n",
    "•\tFit a linear model, such as logistic regression or an SVM (to speed up training you can modify the default settings). Try to get as high an accuracy as possible on a validation set.\n",
    "•\tWhat does the class confusion matrix look like for your best model? Is there anything that stands out in it?"
   ]
  },
  {
   "cell_type": "code",
   "execution_count": 16,
   "metadata": {},
   "outputs": [
    {
     "data": {
      "image/png": "[encoded data removed]",
      "text/plain": [
       "<Figure size 360x360 with 1 Axes>"
      ]
     },
     "metadata": {
      "needs_background": "light"
     },
     "output_type": "display_data"
    }
   ],
   "source": [
    "### first we want to see where we get high score on test data for linear regression\n",
    "### we run linear regression while chaning hyper-parameter c:\n",
    "\n",
    "x_train, x_test, y_train, y_test = train_test_split(x,y, train_size = 0.05,test_size=0.05)\n",
    "test_scores = []\n",
    "train_scores = []\n",
    "sample_range = [.00000001,.0000001,.000001,.00001,.0001,.001,.1,\\\n",
    "               1,10,100,1000,10000,100000,1000000,10000000,100000000,1000000000]\n",
    "\n",
    "for i in np.array(sample_range) :    \n",
    "    LR_model = linear_model.LogisticRegression(penalty='l2',C = i)\n",
    "    LR_model.fit(x_train, y_train)\n",
    "    train_scores.append(LR_model.score(x_train,y_train))\n",
    "    test_scores.append(LR_model.score(x_test,y_test))\n",
    "\n",
    "plt.plot(np.log10(sample_range), train_scores,label=\"Train Score\")\n",
    "plt.plot(np.log10(sample_range), test_scores,label=\"Test Scores\")\n",
    "plt.legend();\n",
    "plt.show();"
   ]
  },
  {
   "cell_type": "code",
   "execution_count": 18,
   "metadata": {},
   "outputs": [
    {
     "name": "stdout",
     "output_type": "stream",
     "text": [
      "Linear Model, train score: 92.693\n",
      "Linear Model, test score: 90.300\n"
     ]
    }
   ],
   "source": [
    "# so we choose C=0.00001 since it gives us the highest the highest accuracy:\n",
    "x_train, x_test, y_train, y_test = train_test_split(x,y, train_size = 0.2,test_size=0.2)\n",
    "LR_model = linear_model.LogisticRegression(C=0.00001)\n",
    "LR_model.fit(x_train, y_train)\n",
    "#Getting the score\n",
    "print(\"Linear Model, train score: %3.3f\" % (100 *LR_model.score(x_train, y_train)))\n",
    "print(\"Linear Model, test score: %3.3f\" % (100 *LR_model.score(x_test, y_test)))"
   ]
  },
  {
   "cell_type": "code",
   "execution_count": 20,
   "metadata": {},
   "outputs": [
    {
     "name": "stdout",
     "output_type": "stream",
     "text": [
      "[[1254    0    3    4    6    9    8    1   10    5]\n",
      " [   1 1577    4    8    0    3    3    0   14    0]\n",
      " [  13    7 1219   18   21   10   16   16   63    4]\n",
      " [   5    8   43 1278    0   43    6   18   41   13]\n",
      " [   3    6   12    1 1257    0    8    3   21   80]\n",
      " [  25    8    9   53   26 1033   35    3   52   27]\n",
      " [   9    5   21    0   11   31 1293    0   13    1]\n",
      " [   8    8   17    8   17    5    1 1326    6   68]\n",
      " [  19   25   25   35   12   37   12    8 1151   26]\n",
      " [   8    6    3   12   37    8    1   41   18 1254]]\n"
     ]
    }
   ],
   "source": [
    "confusion = confusion_matrix(y_test, LR_model.predict(x_test))\n",
    "print(confusion)"
   ]
  },
  {
   "cell_type": "code",
   "execution_count": 21,
   "metadata": {},
   "outputs": [
    {
     "data": {
      "image/png": "[encoded data removed]",
      "text/plain": [
       "<Figure size 504x504 with 2 Axes>"
      ]
     },
     "metadata": {
      "needs_background": "light"
     },
     "output_type": "display_data"
    }
   ],
   "source": [
    "plt.rcParams['figure.figsize']=(7,7)\n",
    "sns.heatmap(confusion, annot=True);"
   ]
  },
  {
   "cell_type": "markdown",
   "metadata": {},
   "source": [
    "#### Answer:\n",
    "Looking at confusion matrix above, we can see that digit 4 has been misclassified as 9, 80 times. \n",
    "Also 9 has been misclassified as 4, 37 times."
   ]
  },
  {
   "cell_type": "markdown",
   "metadata": {},
   "source": [
    "xxxxxxxxxxxxxxxxxxxxxxxxxxxxxxxxxxxxxxxxxxxxxxxxxxxxxxxxxxxxxxxxxxxxxxxxxxxxxxx\n",
    "\n",
    "#### Question\n",
    "\n",
    "•\tRe-fit a linear model that can discriminate between the digit 4 and the digit 9. Visualize the weights of the model as an image, does anything stand out?\n"
   ]
  },
  {
   "cell_type": "code",
   "execution_count": 22,
   "metadata": {},
   "outputs": [],
   "source": [
    "## We need to create a data frame which only has two digit classes: 4 and 9,\n",
    "## in order to do that we use df_new which had defined earlier: \n",
    "\n",
    "df_49=df_new[(df_new['class']==4)|(df_new['class']==9)] \n",
    "\n",
    "## then we define our new x and y from this data frame\n",
    "y_49=(df_49['class']).values\n",
    "del df_49['class']\n",
    "x_49=df_49.values"
   ]
  },
  {
   "cell_type": "code",
   "execution_count": 23,
   "metadata": {},
   "outputs": [
    {
     "name": "stdout",
     "output_type": "stream",
     "text": [
      "(13782, 784)\n",
      "(13782,)\n"
     ]
    }
   ],
   "source": [
    "print(x_49.shape)\n",
    "print(y_49.shape)"
   ]
  },
  {
   "cell_type": "code",
   "execution_count": 25,
   "metadata": {},
   "outputs": [
    {
     "name": "stdout",
     "output_type": "stream",
     "text": [
      "Linear Model, train score: 98.244\n",
      "Linear Model, test score: 96.503\n",
      "\n",
      "[[3257  123]\n",
      " [ 118 3393]]\n"
     ]
    }
   ],
   "source": [
    "x_train, x_test, y_train, y_test = train_test_split(x_49,y_49, train_size = 0.5,test_size=0.5)\n",
    "LR_model = linear_model.LogisticRegression(C=0.00001)\n",
    "LR_model.fit(x_train, y_train)\n",
    "#Getting the score\n",
    "print(\"Linear Model, train score: %3.3f\" % (100 *LR_model.score(x_train, y_train)))\n",
    "print(\"Linear Model, test score: %3.3f\" % (100 *LR_model.score(x_test, y_test)))\n",
    "print()\n",
    "confusion = confusion_matrix(y_test, LR_model.predict(x_test))\n",
    "print(confusion)\n"
   ]
  },
  {
   "cell_type": "code",
   "execution_count": 27,
   "metadata": {},
   "outputs": [
    {
     "data": {
      "image/png": "[encoded data removed]",
      "text/plain": [
       "<Figure size 432x432 with 1 Axes>"
      ]
     },
     "metadata": {
      "needs_background": "light"
     },
     "output_type": "display_data"
    }
   ],
   "source": [
    "### plotting the weights:\n",
    "weights=LR_model.coef_[0]\n",
    "my_image=weights.reshape(28,28)\n",
    "plt.rcParams['figure.figsize']=(6,6)\n",
    "plt.imshow(my_image,cmap='gray');"
   ]
  },
  {
   "cell_type": "markdown",
   "metadata": {},
   "source": [
    "In the plot above, where we have the highest coefficients we have darker pixels, lower coefficients correspond to white pixels."
   ]
  },
  {
   "cell_type": "markdown",
   "metadata": {},
   "source": [
    "xxxxxxxxxxxxxxxxxxxxxxxxxxxxxxxxxxxxxxxxxxxxxxxxxxxxxxxxxxxxxxxxxxxxxxxxxxxxxxxxxxxxxxxxxxxxxx\n",
    "\n",
    "### Question 5:\n",
    "\n",
    "Your goal is to train a model that maximises the predictive performance (accuracy in this case) on this task.\n",
    "Optimise your model's hyperparameters if it has any. Give evidence why you believe the hyperparameters that you found are the best ones.\n",
    "Provide visualizations that demonstrate the model's performance.\n"
   ]
  },
  {
   "cell_type": "code",
   "execution_count": 28,
   "metadata": {},
   "outputs": [
    {
     "data": {
      "image/png": "[encoded data removed]",
      "text/plain": [
       "<Figure size 432x432 with 1 Axes>"
      ]
     },
     "metadata": {
      "needs_background": "light"
     },
     "output_type": "display_data"
    }
   ],
   "source": [
    "###using regression model while playing with C hyperparameter:\n",
    "\n",
    "x_train, x_test, y_train, y_test = train_test_split(x,y, train_size = 0.05,test_size=0.05)\n",
    "test_scores = []\n",
    "train_scores = []\n",
    "sample_range = [.00000001,.0000001,.000001,.00001,.0001,.001,.1,\\\n",
    "               1,10,100,1000,10000,100000,1000000,10000000,100000000,1000000000]\n",
    "\n",
    "for i in np.array(sample_range) :    \n",
    "    my_regression = LogisticRegression(penalty='l2',C = i)\n",
    "    my_regression.fit(x_train,y_train);    \n",
    "    train_scores.append(my_regression.score(x_train,y_train))\n",
    "    test_scores.append(my_regression.score(x_test,y_test))\n",
    "plt.plot(np.log10(sample_range), train_scores,label=\"Train Score\")\n",
    "plt.plot(np.log10(sample_range), test_scores,label=\"Test Scores\")\n",
    "plt.legend();\n",
    "plt.show();"
   ]
  },
  {
   "cell_type": "code",
   "execution_count": 30,
   "metadata": {},
   "outputs": [
    {
     "data": {
      "image/png": "[encoded data removed]",
      "text/plain": [
       "<Figure size 432x432 with 1 Axes>"
      ]
     },
     "metadata": {
      "needs_background": "light"
     },
     "output_type": "display_data"
    }
   ],
   "source": [
    "###using support vector machine (SVM) while playing with C hyperparameter:\n",
    "\n",
    "test_scores = []\n",
    "train_scores = []\n",
    "sample_range = [.00000001,.0000001,.000001,.00001,.0001,.001,.1,\\\n",
    "               1,10,100,1000,10000,100000,1000000,10000000,100000000,1000000000]\n",
    "\n",
    "for i in np.array(sample_range) :\n",
    "    SVM_model = LinearSVC(C = i)    \n",
    "    SVM_model.fit(x_train,y_train);    \n",
    "    train_scores.append(SVM_model.score(x_train,y_train))\n",
    "    test_scores.append(SVM_model.score(x_test,y_test))\n",
    "plt.plot(np.log10(sample_range), train_scores,label=\"Train Score\")\n",
    "plt.plot(np.log10(sample_range), test_scores,label=\"Test Scores\")\n",
    "plt.legend();\n",
    "plt.show();\n"
   ]
  },
  {
   "cell_type": "code",
   "execution_count": 149,
   "metadata": {},
   "outputs": [
    {
     "name": "stdout",
     "output_type": "stream",
     "text": [
      "XG Boost score: 92.143\n"
     ]
    }
   ],
   "source": [
    "### trying extreme gboost model:\n",
    "x_train, x_test, y_train, y_test = train_test_split(x,y, train_size = 0.1,test_size=0.1)\n",
    "XGB_model = XGBClassifier()\n",
    "XGB_model.fit(x_train,y_train)\n",
    "print(\"XG Boost score: %3.3f\" % (100 * XGB_model.score(x_test,y_test)))"
   ]
  },
  {
   "cell_type": "markdown",
   "metadata": {},
   "source": [
    "Looking at results and models above, we can see that for logistic and linear regression C=0.00001, for SVM, C=0.0000005 and for Decision Tree, Depth =9 and for KNN, K=3 gave us highest possible accuracy scores.\n",
    "\n",
    "We run the models again using optimized hyperparameters to compare their test accuracy:"
   ]
  },
  {
   "cell_type": "code",
   "execution_count": 150,
   "metadata": {},
   "outputs": [],
   "source": [
    "my_regression = LogisticRegression(C=0.00001)\n",
    "my_regression.fit(x_train,y_train); \n",
    "reg_score=100 *my_regression.score(x_test, y_test)\n",
    "\n",
    "LR_model = linear_model.LogisticRegression(C=0.00001)\n",
    "LR_model.fit(x_train, y_train)\n",
    "lin_score=100 *LR_model.score(x_test, y_test)\n",
    "\n",
    "DT_model = tree.DecisionTreeClassifier(max_depth=9)\n",
    "DT_model.fit(x_train,y_train)\n",
    "dt_score=100 *DT_model.score(x_test, y_test)\n",
    "\n",
    "KNN_model = neighbors.KNeighborsClassifier(n_neighbors=3)\n",
    "KNN_model.fit(x_train,y_train)\n",
    "knn_score=100* accuracy_score(y_test,KNN_model.predict(x_test))\n",
    "\n",
    "SVM_model = LinearSVC(C=0.0000005)\n",
    "SVM_model.fit(x_train,y_train)\n",
    "svm_score=100 * SVM_model.score(x_test,y_test)\n",
    "\n",
    "xg_score=100 * (XGB_model.score(x_test,y_test))"
   ]
  },
  {
   "cell_type": "code",
   "execution_count": 151,
   "metadata": {},
   "outputs": [
    {
     "data": {
      "text/html": [
       "<div>\n",
       "<style scoped>\n",
       "    .dataframe tbody tr th:only-of-type {\n",
       "        vertical-align: middle;\n",
       "    }\n",
       "\n",
       "    .dataframe tbody tr th {\n",
       "        vertical-align: top;\n",
       "    }\n",
       "\n",
       "    .dataframe thead th {\n",
       "        text-align: right;\n",
       "    }\n",
       "</style>\n",
       "<table border=\"1\" class=\"dataframe\">\n",
       "  <thead>\n",
       "    <tr style=\"text-align: right;\">\n",
       "      <th></th>\n",
       "      <th>Model</th>\n",
       "      <th>Accuracy</th>\n",
       "    </tr>\n",
       "  </thead>\n",
       "  <tbody>\n",
       "    <tr>\n",
       "      <th>0</th>\n",
       "      <td>Regression</td>\n",
       "      <td>89.271429</td>\n",
       "    </tr>\n",
       "    <tr>\n",
       "      <th>1</th>\n",
       "      <td>Linear</td>\n",
       "      <td>89.271429</td>\n",
       "    </tr>\n",
       "    <tr>\n",
       "      <th>2</th>\n",
       "      <td>Decision Tree</td>\n",
       "      <td>78.228571</td>\n",
       "    </tr>\n",
       "    <tr>\n",
       "      <th>3</th>\n",
       "      <td>KNN</td>\n",
       "      <td>94.371429</td>\n",
       "    </tr>\n",
       "    <tr>\n",
       "      <th>4</th>\n",
       "      <td>SVM</td>\n",
       "      <td>89.185714</td>\n",
       "    </tr>\n",
       "    <tr>\n",
       "      <th>5</th>\n",
       "      <td>XG Boost</td>\n",
       "      <td>92.142857</td>\n",
       "    </tr>\n",
       "  </tbody>\n",
       "</table>\n",
       "</div>"
      ],
      "text/plain": [
       "           Model   Accuracy\n",
       "0     Regression  89.271429\n",
       "1         Linear  89.271429\n",
       "2  Decision Tree  78.228571\n",
       "3            KNN  94.371429\n",
       "4            SVM  89.185714\n",
       "5       XG Boost  92.142857"
      ]
     },
     "execution_count": 151,
     "metadata": {},
     "output_type": "execute_result"
    }
   ],
   "source": [
    "results= {'Model': ['Regression', 'Linear','Decision Tree','KNN','SVM','XG Boost'], \n",
    "          'Accuracy': [reg_score, lin_score,dt_score,knn_score,svm_score,xg_score]}\n",
    "df_results=pd.DataFrame(results)\n",
    "df_results.head(10)"
   ]
  },
  {
   "cell_type": "markdown",
   "metadata": {},
   "source": [
    "Based on the results above, KNN and XG-Boost give us the highest test scores."
   ]
  }
 ],
 "metadata": {
  "kernelspec": {
   "display_name": "Python 3",
   "language": "python",
   "name": "python3"
  },
  "language_info": {
   "codemirror_mode": {
    "name": "ipython",
    "version": 3
   },
   "file_extension": ".py",
   "mimetype": "text/x-python",
   "name": "python",
   "nbconvert_exporter": "python",
   "pygments_lexer": "ipython3",
   "version": "3.6.6"
  }
 },
 "nbformat": 4,
 "nbformat_minor": 2
}
